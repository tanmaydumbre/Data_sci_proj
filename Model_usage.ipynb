{
 "cells": [
  {
   "cell_type": "code",
   "execution_count": 2,
   "id": "47905f07-51e7-492d-bf24-692a44a1aa40",
   "metadata": {},
   "outputs": [],
   "source": [
    "from joblib import dump,load\n",
    "import numpy as np\n",
    "model = load(\"Dragon.joblib\")"
   ]
  },
  {
   "cell_type": "code",
   "execution_count": 5,
   "id": "38be5a59-908a-49d8-8d4a-cbdf9bb90897",
   "metadata": {},
   "outputs": [],
   "source": [
    "features = np.array([[-0.44228927, -0.4898311 , -1.37640684, -0.27288841, -0.34321545,\n",
    "        0.36616318, -0.33092752,  1.20235683, -1.0016859 ,  0.05733231,\n",
    "       -1.21003475,  0.38110555, -0.57309194]])"
   ]
  },
  {
   "cell_type": "code",
   "execution_count": 6,
   "id": "70faa701-9952-49ad-b16d-a85c5f44818f",
   "metadata": {},
   "outputs": [
    {
     "data": {
      "text/plain": [
       "array([24.378])"
      ]
     },
     "execution_count": 6,
     "metadata": {},
     "output_type": "execute_result"
    }
   ],
   "source": [
    "model.predict(features)"
   ]
  },
  {
   "cell_type": "markdown",
   "id": "af3019b1-5aa6-4e54-98a9-d15d83d61f35",
   "metadata": {},
   "source": [
    "- itha apan features takun value predict kelya"
   ]
  },
  {
   "cell_type": "code",
   "execution_count": null,
   "id": "a0fc09fc-0f39-4bc1-b2bf-e442248031e8",
   "metadata": {},
   "outputs": [],
   "source": []
  }
 ],
 "metadata": {
  "kernelspec": {
   "display_name": "Python 3 (ipykernel)",
   "language": "python",
   "name": "python3"
  },
  "language_info": {
   "codemirror_mode": {
    "name": "ipython",
    "version": 3
   },
   "file_extension": ".py",
   "mimetype": "text/x-python",
   "name": "python",
   "nbconvert_exporter": "python",
   "pygments_lexer": "ipython3",
   "version": "3.12.3"
  }
 },
 "nbformat": 4,
 "nbformat_minor": 5
}
